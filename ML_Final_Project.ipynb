{
  "cells": [
    {
      "cell_type": "markdown",
      "metadata": {
        "id": "6DtQGpHrrnWr"
      },
      "source": [
        "**Installed Package**"
      ]
    },
    {
      "cell_type": "code",
      "execution_count": 1,
      "metadata": {
        "id": "-rnC_fSjrfNF"
      },
      "outputs": [
        {
          "name": "stdout",
          "output_type": "stream",
          "text": [
            "Requirement already satisfied: opencv-python-headless in c:\\users\\ricar\\anaconda3\\lib\\site-packages (4.11.0.86)Note: you may need to restart the kernel to use updated packages.\n",
            "\n",
            "Requirement already satisfied: numpy>=1.21.2 in c:\\users\\ricar\\anaconda3\\lib\\site-packages (from opencv-python-headless) (1.26.4)\n",
            "Requirement already satisfied: mediapipe in c:\\users\\ricar\\anaconda3\\lib\\site-packages (0.10.21)\n",
            "Requirement already satisfied: absl-py in c:\\users\\ricar\\anaconda3\\lib\\site-packages (from mediapipe) (2.2.2)\n",
            "Requirement already satisfied: attrs>=19.1.0 in c:\\users\\ricar\\anaconda3\\lib\\site-packages (from mediapipe) (23.1.0)\n",
            "Requirement already satisfied: flatbuffers>=2.0 in c:\\users\\ricar\\anaconda3\\lib\\site-packages (from mediapipe) (25.2.10)\n",
            "Requirement already satisfied: jax in c:\\users\\ricar\\anaconda3\\lib\\site-packages (from mediapipe) (0.6.0)\n",
            "Requirement already satisfied: jaxlib in c:\\users\\ricar\\anaconda3\\lib\\site-packages (from mediapipe) (0.6.0)\n",
            "Requirement already satisfied: matplotlib in c:\\users\\ricar\\anaconda3\\lib\\site-packages (from mediapipe) (3.9.2)\n",
            "Requirement already satisfied: numpy<2 in c:\\users\\ricar\\anaconda3\\lib\\site-packages (from mediapipe) (1.26.4)\n",
            "Requirement already satisfied: opencv-contrib-python in c:\\users\\ricar\\anaconda3\\lib\\site-packages (from mediapipe) (4.11.0.86)\n",
            "Requirement already satisfied: protobuf<5,>=4.25.3 in c:\\users\\ricar\\anaconda3\\lib\\site-packages (from mediapipe) (4.25.6)\n",
            "Requirement already satisfied: sounddevice>=0.4.4 in c:\\users\\ricar\\anaconda3\\lib\\site-packages (from mediapipe) (0.5.1)\n",
            "Requirement already satisfied: sentencepiece in c:\\users\\ricar\\anaconda3\\lib\\site-packages (from mediapipe) (0.2.0)\n",
            "Requirement already satisfied: CFFI>=1.0 in c:\\users\\ricar\\anaconda3\\lib\\site-packages (from sounddevice>=0.4.4->mediapipe) (1.17.1)\n",
            "Requirement already satisfied: ml_dtypes>=0.5.0 in c:\\users\\ricar\\anaconda3\\lib\\site-packages (from jax->mediapipe) (0.5.1)\n",
            "Requirement already satisfied: opt_einsum in c:\\users\\ricar\\anaconda3\\lib\\site-packages (from jax->mediapipe) (3.4.0)\n",
            "Requirement already satisfied: scipy>=1.11.1 in c:\\users\\ricar\\anaconda3\\lib\\site-packages (from jax->mediapipe) (1.13.1)\n",
            "Requirement already satisfied: contourpy>=1.0.1 in c:\\users\\ricar\\anaconda3\\lib\\site-packages (from matplotlib->mediapipe) (1.2.0)\n",
            "Requirement already satisfied: cycler>=0.10 in c:\\users\\ricar\\anaconda3\\lib\\site-packages (from matplotlib->mediapipe) (0.11.0)\n",
            "Requirement already satisfied: fonttools>=4.22.0 in c:\\users\\ricar\\anaconda3\\lib\\site-packages (from matplotlib->mediapipe) (4.51.0)\n",
            "Requirement already satisfied: kiwisolver>=1.3.1 in c:\\users\\ricar\\anaconda3\\lib\\site-packages (from matplotlib->mediapipe) (1.4.4)\n",
            "Requirement already satisfied: packaging>=20.0 in c:\\users\\ricar\\appdata\\roaming\\python\\python312\\site-packages (from matplotlib->mediapipe) (24.2)\n",
            "Requirement already satisfied: pillow>=8 in c:\\users\\ricar\\anaconda3\\lib\\site-packages (from matplotlib->mediapipe) (10.4.0)\n",
            "Requirement already satisfied: pyparsing>=2.3.1 in c:\\users\\ricar\\anaconda3\\lib\\site-packages (from matplotlib->mediapipe) (3.1.2)\n",
            "Requirement already satisfied: python-dateutil>=2.7 in c:\\users\\ricar\\appdata\\roaming\\python\\python312\\site-packages (from matplotlib->mediapipe) (2.9.0.post0)\n",
            "Requirement already satisfied: pycparser in c:\\users\\ricar\\anaconda3\\lib\\site-packages (from CFFI>=1.0->sounddevice>=0.4.4->mediapipe) (2.21)\n",
            "Requirement already satisfied: six>=1.5 in c:\\users\\ricar\\appdata\\roaming\\python\\python312\\site-packages (from python-dateutil>=2.7->matplotlib->mediapipe) (1.16.0)\n",
            "Note: you may need to restart the kernel to use updated packages.\n",
            "Requirement already satisfied: matplotlib in c:\\users\\ricar\\anaconda3\\lib\\site-packages (3.9.2)\n",
            "Requirement already satisfied: contourpy>=1.0.1 in c:\\users\\ricar\\anaconda3\\lib\\site-packages (from matplotlib) (1.2.0)\n",
            "Requirement already satisfied: cycler>=0.10 in c:\\users\\ricar\\anaconda3\\lib\\site-packages (from matplotlib) (0.11.0)\n",
            "Requirement already satisfied: fonttools>=4.22.0 in c:\\users\\ricar\\anaconda3\\lib\\site-packages (from matplotlib) (4.51.0)\n",
            "Requirement already satisfied: kiwisolver>=1.3.1 in c:\\users\\ricar\\anaconda3\\lib\\site-packages (from matplotlib) (1.4.4)\n",
            "Requirement already satisfied: numpy>=1.23 in c:\\users\\ricar\\anaconda3\\lib\\site-packages (from matplotlib) (1.26.4)\n",
            "Requirement already satisfied: packaging>=20.0 in c:\\users\\ricar\\appdata\\roaming\\python\\python312\\site-packages (from matplotlib) (24.2)\n",
            "Requirement already satisfied: pillow>=8 in c:\\users\\ricar\\anaconda3\\lib\\site-packages (from matplotlib) (10.4.0)\n",
            "Requirement already satisfied: pyparsing>=2.3.1 in c:\\users\\ricar\\anaconda3\\lib\\site-packages (from matplotlib) (3.1.2)\n",
            "Requirement already satisfied: python-dateutil>=2.7 in c:\\users\\ricar\\appdata\\roaming\\python\\python312\\site-packages (from matplotlib) (2.9.0.post0)\n",
            "Requirement already satisfied: six>=1.5 in c:\\users\\ricar\\appdata\\roaming\\python\\python312\\site-packages (from python-dateutil>=2.7->matplotlib) (1.16.0)\n",
            "Note: you may need to restart the kernel to use updated packages.\n"
          ]
        }
      ],
      "source": [
        "%pip install opencv-python-headless\n",
        "%pip install mediapipe\n",
        "%pip install matplotlib"
      ]
    },
    {
      "cell_type": "markdown",
      "metadata": {
        "id": "j2CrFpsNsOdK"
      },
      "source": [
        "**Libraries**"
      ]
    },
    {
      "cell_type": "code",
      "execution_count": 2,
      "metadata": {
        "id": "jG0s6C3usTF-"
      },
      "outputs": [],
      "source": [
        "import cv2\n",
        "import mediapipe as mp\n",
        "import matplotlib.pyplot as plt\n",
        "import numpy as np\n",
        "import time"
      ]
    },
    {
      "cell_type": "markdown",
      "metadata": {
        "id": "7XpmWwvfseV9"
      },
      "source": [
        "**Code Structure**"
      ]
    },
    {
      "cell_type": "code",
      "execution_count": 23,
      "metadata": {
        "id": "qDxRSOr-sj-8"
      },
      "outputs": [],
      "source": [
        "\n",
        "# Initialize mediapipe pose and drawing utils\n",
        "mp_pose = mp.solutions.pose\n",
        "pose = mp_pose.Pose(static_image_mode=False, min_detection_confidence=0.5, min_tracking_confidence=0.5)\n",
        "mp_drawing = mp.solutions.drawing_utils\n",
        "\n",
        "# Angle calculation\n",
        "def calculateAngle(a, b, c):\n",
        "    a = np.array([a.x, a.y])\n",
        "    b = np.array([b.x, b.y])\n",
        "    c = np.array([c.x, c.y])\n",
        "    radians = np.arctan2(c[1]-b[1], c[0]-b[0]) - np.arctan2(a[1]-b[1], a[0]-b[0])\n",
        "    angle = np.abs(radians * 180.0 / np.pi)\n",
        "    return 360 - angle if angle > 180.0 else angle\n",
        "\n",
        "# Draw angle on joint (Optional to show the Angles in the image)\n",
        "def draw_angle(image, angle, landmark):\n",
        "    h, w, _ = image.shape\n",
        "    cx, cy = int(landmark.x * w), int(landmark.y * h)\n",
        "    cv2.putText(image, f'{int(angle)} deg', (cx - 20, cy - 20),\n",
        "                cv2.FONT_HERSHEY_TRIPLEX, 1, (255, 255, 255), 2)\n",
        "\n",
        "\n",
        "# Pose classification and angle display\n",
        "def classifyPose(landmarks, output_image):\n",
        "    label = 'Unknown Pose'\n",
        "    color = (0, 0, 255)\n",
        "\n",
        "    # Calculate angles\n",
        "    left_elbow_angle = calculateAngle(landmarks[mp_pose.PoseLandmark.LEFT_SHOULDER.value],\n",
        "                                      landmarks[mp_pose.PoseLandmark.LEFT_ELBOW.value],\n",
        "                                      landmarks[mp_pose.PoseLandmark.LEFT_WRIST.value])\n",
        "    right_elbow_angle = calculateAngle(landmarks[mp_pose.PoseLandmark.RIGHT_SHOULDER.value],\n",
        "                                       landmarks[mp_pose.PoseLandmark.RIGHT_ELBOW.value],\n",
        "                                       landmarks[mp_pose.PoseLandmark.RIGHT_WRIST.value])\n",
        "    left_shoulder_angle = calculateAngle(landmarks[mp_pose.PoseLandmark.LEFT_ELBOW.value],\n",
        "                                         landmarks[mp_pose.PoseLandmark.LEFT_SHOULDER.value],\n",
        "                                         landmarks[mp_pose.PoseLandmark.LEFT_HIP.value])\n",
        "    right_shoulder_angle = calculateAngle(landmarks[mp_pose.PoseLandmark.RIGHT_HIP.value],\n",
        "                                          landmarks[mp_pose.PoseLandmark.RIGHT_SHOULDER.value],\n",
        "                                          landmarks[mp_pose.PoseLandmark.RIGHT_ELBOW.value])\n",
        "    left_knee_angle = calculateAngle(landmarks[mp_pose.PoseLandmark.LEFT_HIP.value],\n",
        "                                     landmarks[mp_pose.PoseLandmark.LEFT_KNEE.value],\n",
        "                                     landmarks[mp_pose.PoseLandmark.LEFT_ANKLE.value])\n",
        "    right_knee_angle = calculateAngle(landmarks[mp_pose.PoseLandmark.RIGHT_HIP.value],\n",
        "                                      landmarks[mp_pose.PoseLandmark.RIGHT_KNEE.value],\n",
        "                                      landmarks[mp_pose.PoseLandmark.RIGHT_ANKLE.value])\n",
        "\n",
        "\n",
        "    # Pose classification logic\n",
        "    if 40 < left_elbow_angle < 60:\n",
        "        if 15 < left_shoulder_angle < 25:\n",
        "            label = 'Push-Up Down Position'\n",
        "    elif 165 < left_elbow_angle < 180:\n",
        "        if 70 < left_shoulder_angle < 80:\n",
        "            label = 'Push-Up Start Position'\n",
        "\n",
        "    if label != 'Unknown Pose':\n",
        "        color = (0, 255, 0)\n",
        "\n",
        "    cv2.putText(output_image, label, (10, 30), cv2.FONT_HERSHEY_PLAIN, 2, color, 2)\n",
        "\n",
        "    return output_image, label\n",
        "\n",
        "# ✅ Webcam setup (index 0 If you use a WebCam)\n",
        "cap = cv2.VideoCapture(0)\n",
        "\n",
        "# Push-up counter variables\n",
        "counter = 0\n",
        "stage = None\n",
        "\n",
        "while cap.isOpened():\n",
        "    ret, frame = cap.read()\n",
        "    if not ret:\n",
        "        break\n",
        "\n",
        "    image = cv2.cvtColor(frame, cv2.COLOR_BGR2RGB)\n",
        "    results = pose.process(image)\n",
        "\n",
        "    if results.pose_landmarks:\n",
        "        landmarks = results.pose_landmarks.landmark\n",
        "        mp_drawing.draw_landmarks(frame, results.pose_landmarks, mp_pose.POSE_CONNECTIONS)\n",
        "        frame, label = classifyPose(landmarks, frame)\n",
        "\n",
        "        # Push-up logic\n",
        "        if label == 'Push-Up Down Position':\n",
        "            stage = 'down'\n",
        "        elif label == 'Push-Up Start Position' and stage == 'down':\n",
        "            stage = 'up'\n",
        "            counter += 1\n",
        "\n",
        "        # Show counter\n",
        "        cv2.putText(frame, f'Push-Ups: {counter}', (10, 70),\n",
        "                    cv2.FONT_HERSHEY_TRIPLEX, 1, (255, 255, 0), 2)\n",
        "\n",
        "    # Display the frame inline in Jupyter Notebook\n",
        "    plt.imshow(cv2.cvtColor(frame, cv2.COLOR_BGR2RGB))\n",
        "    plt.axis('off')\n",
        "    plt.show()\n",
        "\n",
        "    # Add a small delay to simulate frame rate and allow interruption\n",
        "    time.sleep(0.02)  # Adjust the delay as needed for smoother display\n",
        "    from IPython.display import clear_output\n",
        "    clear_output(wait=True)\n",
        "\n",
        "cap.release()\n"
      ]
    }
  ],
  "metadata": {
    "colab": {
      "provenance": []
    },
    "kernelspec": {
      "display_name": "base",
      "language": "python",
      "name": "python3"
    },
    "language_info": {
      "codemirror_mode": {
        "name": "ipython",
        "version": 3
      },
      "file_extension": ".py",
      "mimetype": "text/x-python",
      "name": "python",
      "nbconvert_exporter": "python",
      "pygments_lexer": "ipython3",
      "version": "3.12.7"
    }
  },
  "nbformat": 4,
  "nbformat_minor": 0
}
